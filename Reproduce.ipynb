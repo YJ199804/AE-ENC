{
 "cells": [
  {
   "cell_type": "markdown",
   "metadata": {},
   "source": [
    "# Cora"
   ]
  },
  {
   "cell_type": "code",
   "execution_count": 1,
   "metadata": {},
   "outputs": [
    {
     "name": "stderr",
     "output_type": "stream",
     "text": [
      "\r",
      "  0%|                                                                                                                                | 0/100 [00:00<?, ?run/s]"
     ]
    },
    {
     "name": "stdout",
     "output_type": "stream",
     "text": [
      "Precompute the enhanced adjacency matrix...\n",
      "Precompute Finish!\n",
      "Dataset:cora\n",
      "raw_data_dim:1433, classes:7, Train_data_num:140, Val_data_num:500, Test_data_num:1000\n"
     ]
    },
    {
     "name": "stderr",
     "output_type": "stream",
     "text": [
      "100%|██████████████████████████████████████████████████████████████████████████████████████████████████████████████████████| 100/100 [03:10<00:00,  1.90s/run]"
     ]
    },
    {
     "name": "stdout",
     "output_type": "stream",
     "text": [
      "Val Loss: 0.7637, Test Accuracy: 0.828 ± 0.008, Duration: 1.900\n"
     ]
    },
    {
     "name": "stderr",
     "output_type": "stream",
     "text": [
      "\n"
     ]
    }
   ],
   "source": [
    "%run main.py --dataset cora --runs 100 --epochs 600 --batch_size 2200 --dropout 0 --hidden 300 --hidden_z 300 --early_stopping 20 --lr 0.007 --weight_decay 0.0004 --alpha 2 --beta 3 --tau 0.5 --order 4"
   ]
  },
  {
   "cell_type": "markdown",
   "metadata": {
    "collapsed": true
   },
   "source": [
    "# CiteSeer"
   ]
  },
  {
   "cell_type": "code",
   "execution_count": 1,
   "metadata": {},
   "outputs": [
    {
     "name": "stdout",
     "output_type": "stream",
     "text": [
      "Precompute the enhanced adjacency matrix...\n"
     ]
    },
    {
     "name": "stderr",
     "output_type": "stream",
     "text": [
      "\r",
      "  0%|                                                                                                                                | 0/100 [00:00<?, ?run/s]"
     ]
    },
    {
     "name": "stdout",
     "output_type": "stream",
     "text": [
      "Precompute Finish!\n",
      "Dataset:citeseer\n",
      "raw_data_dim:3703, classes:6, Train_data_num:120, Val_data_num:500, Test_data_num:1000\n"
     ]
    },
    {
     "name": "stderr",
     "output_type": "stream",
     "text": [
      "100%|██████████████████████████████████████████████████████████████████████████████████████████████████████████████████████| 100/100 [12:04<00:00,  7.25s/run]"
     ]
    },
    {
     "name": "stdout",
     "output_type": "stream",
     "text": [
      "Val Loss: 0.8285, Test Accuracy: 0.742 ± 0.007, Duration: 7.244\n"
     ]
    },
    {
     "name": "stderr",
     "output_type": "stream",
     "text": [
      "\n"
     ]
    }
   ],
   "source": [
    "%run main.py --dataset citeseer --epochs 500 --batch_size 3000 --lr 0.01 --weight_decay 0.0005 --dropout 0.8 --hidden 1500 --hidden_z 500 --early_stopping 10 --alpha 1 --beta 2 --tau 0.5 --order 4"
   ]
  },
  {
   "cell_type": "markdown",
   "metadata": {
    "collapsed": true
   },
   "source": [
    "# PubMed"
   ]
  },
  {
   "cell_type": "code",
   "execution_count": 1,
   "metadata": {},
   "outputs": [
    {
     "name": "stderr",
     "output_type": "stream",
     "text": [
      "\r",
      "  0%|                                                                                                                                | 0/100 [00:00<?, ?run/s]"
     ]
    },
    {
     "name": "stdout",
     "output_type": "stream",
     "text": [
      "Dataset:pubmed\n",
      "raw_data_dim:500, classes:3, Train_data_num:60, Val_data_num:500, Test_data_num:1000\n"
     ]
    },
    {
     "name": "stderr",
     "output_type": "stream",
     "text": [
      "100%|██████████████████████████████████████████████████████████████████████████████████████████████████████████████████████| 100/100 [03:50<00:00,  2.31s/run]"
     ]
    },
    {
     "name": "stdout",
     "output_type": "stream",
     "text": [
      "Val Loss: 0.4775, Test Accuracy: 0.826 ± 0.006, Duration: 2.306\n"
     ]
    },
    {
     "name": "stderr",
     "output_type": "stream",
     "text": [
      "\n"
     ]
    }
   ],
   "source": [
    "%run main.py --dataset pubmed --runs 100 --epochs 400 --batch_size 2500 --lr 0.01 --weight_decay 0.0005 --dropout 0.2 --hidden 400 --hidden_z 400 --early_stopping 10 --alpha 10 --beta 1 --tau 0.5 --order 4"
   ]
  },
  {
   "cell_type": "markdown",
   "metadata": {},
   "source": [
    "# Amazon Computers"
   ]
  },
  {
   "cell_type": "code",
   "execution_count": 1,
   "metadata": {},
   "outputs": [
    {
     "name": "stdout",
     "output_type": "stream",
     "text": [
      "Precompute the enhanced adjacency matrix...\n",
      "Precompute Finish!\n",
      "Dataset:computers\n",
      "Dataset: Data(x=[13752, 767], edge_index=[2, 491722], y=[13752])\n"
     ]
    },
    {
     "name": "stderr",
     "output_type": "stream",
     "text": [
      "\r",
      "  0%|                                                                                                                                | 0/100 [00:00<?, ?run/s]"
     ]
    },
    {
     "name": "stdout",
     "output_type": "stream",
     "text": [
      "Original #nodes: 13752\n",
      "#Nodes after lcc: 13381\n",
      "raw_data_dim:767, classes:10, Train_data_num:200, Val_data_num:300, Test_data_num:12881\n"
     ]
    },
    {
     "name": "stderr",
     "output_type": "stream",
     "text": [
      "100%|██████████████████████████████████████████████████████████████████████████████████████████████████████████████████████| 100/100 [59:59<00:00, 35.99s/run]"
     ]
    },
    {
     "name": "stdout",
     "output_type": "stream",
     "text": [
      "Val Loss: 0.5452, Test Accuracy: 0.847 ± 0.012, Duration: 35.978\n"
     ]
    },
    {
     "name": "stderr",
     "output_type": "stream",
     "text": [
      "\n"
     ]
    }
   ],
   "source": [
    "%run main.py --dataset computers --runs 100 --epochs 300 --lr 0.005 --weight_decay 0.0005 --dropout 0.4 --hidden 400 --hidden_z 300 --early_stopping 10 --alpha 30 --beta 3 --tau 4 --order 6"
   ]
  },
  {
   "cell_type": "markdown",
   "metadata": {},
   "source": [
    "# Amazon Photo"
   ]
  },
  {
   "cell_type": "code",
   "execution_count": 6,
   "metadata": {},
   "outputs": [
    {
     "name": "stdout",
     "output_type": "stream",
     "text": [
      "Precompute the enhanced adjacency matrix...\n",
      "Precompute Finish!\n",
      "Dataset:photo\n",
      "Dataset: Data(x=[7650, 745], edge_index=[2, 238162], y=[7650])\n"
     ]
    },
    {
     "name": "stderr",
     "output_type": "stream",
     "text": [
      "\r",
      "  0%|                                                                                                                                | 0/100 [00:00<?, ?run/s]"
     ]
    },
    {
     "name": "stdout",
     "output_type": "stream",
     "text": [
      "Original #nodes: 7650\n",
      "#Nodes after lcc: 7487\n",
      "raw_data_dim:745, classes:8, Train_data_num:160, Val_data_num:240, Test_data_num:7087\n"
     ]
    },
    {
     "name": "stderr",
     "output_type": "stream",
     "text": [
      "100%|██████████████████████████████████████████████████████████████████████████████████████████████████████████████████████| 100/100 [12:18<00:00,  7.39s/run]"
     ]
    },
    {
     "name": "stdout",
     "output_type": "stream",
     "text": [
      "Val Loss: 0.2674, Test Accuracy: 0.932 ± 0.008, Duration: 7.381\n"
     ]
    },
    {
     "name": "stderr",
     "output_type": "stream",
     "text": [
      "\n"
     ]
    }
   ],
   "source": [
    "%run main.py --dataset photo --runs 100 --epochs 200 --lr 0.005 --weight_decay 0.0005 --dropout 0.5 --hidden 200 --hidden_z 200 --early_stopping 10 --alpha 25 --beta 3 --tau 4 --order 5"
   ]
  },
  {
   "cell_type": "markdown",
   "metadata": {},
   "source": [
    "# Coauthor CS"
   ]
  },
  {
   "cell_type": "code",
   "execution_count": 1,
   "metadata": {},
   "outputs": [
    {
     "name": "stdout",
     "output_type": "stream",
     "text": [
      "Dataset: Data(x=[18333, 6805], edge_index=[2, 163788], y=[18333])\n"
     ]
    },
    {
     "name": "stderr",
     "output_type": "stream",
     "text": [
      "\r",
      "  0%|                                                                                                                                 | 0/10 [00:00<?, ?run/s]"
     ]
    },
    {
     "name": "stdout",
     "output_type": "stream",
     "text": [
      "raw_data_dim:6805, classes:15, Train_data_num:300, Val_data_num:450, Test_data_num:17583\n"
     ]
    },
    {
     "name": "stderr",
     "output_type": "stream",
     "text": [
      "100%|████████████████████████████████████████████████████████████████████████████████████████████████████████████████████████| 10/10 [04:25<00:00, 26.58s/run]"
     ]
    },
    {
     "name": "stdout",
     "output_type": "stream",
     "text": [
      "Val Loss: 0.4191, Test Accuracy: 0.924 ± 0.006, Duration: 26.544\n"
     ]
    },
    {
     "name": "stderr",
     "output_type": "stream",
     "text": [
      "\n"
     ]
    }
   ],
   "source": [
    "%run main.py --dataset cs --runs 10 --epochs 100 --lr 0.01 --weight_decay 0.005 --dropout 0.8 --hidden 2000 --hidden_z 600 --early_stopping 10 --alpha 10 --beta 1 --tau 1.2 --order 2"
   ]
  },
  {
   "cell_type": "code",
   "execution_count": null,
   "metadata": {
    "collapsed": true
   },
   "outputs": [],
   "source": []
  }
 ],
 "metadata": {
  "kernelspec": {
   "display_name": "pyg",
   "language": "python",
   "name": "torch11.1"
  },
  "language_info": {
   "codemirror_mode": {
    "name": "ipython",
    "version": 3
   },
   "file_extension": ".py",
   "mimetype": "text/x-python",
   "name": "python",
   "nbconvert_exporter": "python",
   "pygments_lexer": "ipython3",
   "version": "3.8.12"
  }
 },
 "nbformat": 4,
 "nbformat_minor": 2
}
